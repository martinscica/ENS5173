{
 "cells": [
  {
   "cell_type": "markdown",
   "id": "dc601b64-a855-40c4-81ef-814413122d8e",
   "metadata": {},
   "source": [
    "# Aula - 03/04/2024 - Comandos básicos no python\n",
    "\n",
    "Nesta aula aprenderemos a importar pacotes e os tipos de variáveis\\\n",
    "Desenvolvedora: Cecília Fonseca"
   ]
  },
  {
   "cell_type": "markdown",
   "id": "2ccffc0c-5f74-4fab-9355-01dce2db8ccd",
   "metadata": {},
   "source": [
    "## Tipos de variáveis"
   ]
  },
  {
   "cell_type": "code",
   "execution_count": 14,
   "id": "dc577c76-0cb1-4dfa-85d6-c68393f9d848",
   "metadata": {},
   "outputs": [
    {
     "name": "stdout",
     "output_type": "stream",
     "text": [
      "a = 1\n",
      "<class 'int'>\n"
     ]
    }
   ],
   "source": [
    "# Criando variáveis inteiras\n",
    "a = 1\n",
    "print ('a = ' + str (a))\n",
    "print (type (a))"
   ]
  },
  {
   "cell_type": "code",
   "execution_count": 12,
   "id": "6db0f0db-6d66-45ae-a6c2-02e43de2c983",
   "metadata": {},
   "outputs": [
    {
     "name": "stdout",
     "output_type": "stream",
     "text": [
      "Salve o Corinthians\n",
      "<class 'str'>\n"
     ]
    }
   ],
   "source": [
    "# Criando variáveis string\n",
    "b = 'Salve o '\n",
    "c = 'Corinthians'\n",
    "print (b+c)\n",
    "print (type(b))"
   ]
  },
  {
   "cell_type": "code",
   "execution_count": 13,
   "id": "751220b8-d83e-473e-967e-36497c25e164",
   "metadata": {},
   "outputs": [
    {
     "name": "stdout",
     "output_type": "stream",
     "text": [
      "666.66\n",
      "<class 'float'>\n"
     ]
    }
   ],
   "source": [
    "# Criando variáveis float/double precision\n",
    "d = 666.66\n",
    "print(d)\n",
    "print(type(d))"
   ]
  }
 ],
 "metadata": {
  "kernelspec": {
   "display_name": "Python 3 (ipykernel)",
   "language": "python",
   "name": "python3"
  },
  "language_info": {
   "codemirror_mode": {
    "name": "ipython",
    "version": 3
   },
   "file_extension": ".py",
   "mimetype": "text/x-python",
   "name": "python",
   "nbconvert_exporter": "python",
   "pygments_lexer": "ipython3",
   "version": "3.11.8"
  }
 },
 "nbformat": 4,
 "nbformat_minor": 5
}
