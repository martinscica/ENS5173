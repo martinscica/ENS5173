{
 "cells": [
  {
   "cell_type": "markdown",
   "id": "12cc26ab-1a02-45e5-95e2-6caa7df2c2a0",
   "metadata": {},
   "source": [
    "# Aula 02 - Python"
   ]
  },
  {
   "cell_type": "markdown",
   "id": "ffb336cd-4314-427c-9ced-dfbc59084310",
   "metadata": {},
   "source": [
    "## Dados numéricos"
   ]
  },
  {
   "cell_type": "code",
   "execution_count": 3,
   "id": "3bcfaf7a-2db5-4698-9f56-3c11c3af6b7a",
   "metadata": {},
   "outputs": [
    {
     "name": "stdout",
     "output_type": "stream",
     "text": [
      "Valor de a = 1\n"
     ]
    },
    {
     "data": {
      "text/plain": [
       "int"
      ]
     },
     "execution_count": 3,
     "metadata": {},
     "output_type": "execute_result"
    }
   ],
   "source": [
    "# Variável inteira\n",
    "a=1\n",
    "print('Valor de a = '+str(a))\n",
    "type(a)"
   ]
  },
  {
   "cell_type": "code",
   "execution_count": 4,
   "id": "b44483a8-ae35-4db3-8fcb-8010b588e1a0",
   "metadata": {},
   "outputs": [
    {
     "name": "stdout",
     "output_type": "stream",
     "text": [
      "1.0\n"
     ]
    },
    {
     "data": {
      "text/plain": [
       "float"
      ]
     },
     "execution_count": 4,
     "metadata": {},
     "output_type": "execute_result"
    }
   ],
   "source": [
    "# Variável dupla precisão\n",
    "b = 1.0\n",
    "print(b)\n",
    "type(b)"
   ]
  },
  {
   "cell_type": "code",
   "execution_count": 5,
   "id": "7f572546-ce61-439a-b927-d726ff880815",
   "metadata": {},
   "outputs": [
    {
     "name": "stdout",
     "output_type": "stream",
     "text": [
      "1\n"
     ]
    },
    {
     "data": {
      "text/plain": [
       "int"
      ]
     },
     "execution_count": 5,
     "metadata": {},
     "output_type": "execute_result"
    }
   ],
   "source": [
    "# Converter float para int\n",
    "c = int(b)\n",
    "print(c)\n",
    "type(c)"
   ]
  },
  {
   "cell_type": "code",
   "execution_count": 6,
   "id": "4cc432a6-6d3c-4afa-b001-c342cc38bda7",
   "metadata": {},
   "outputs": [
    {
     "name": "stdout",
     "output_type": "stream",
     "text": [
      "nan\n"
     ]
    },
    {
     "data": {
      "text/plain": [
       "float"
      ]
     },
     "execution_count": 6,
     "metadata": {},
     "output_type": "execute_result"
    }
   ],
   "source": [
    "# Delacrando nan\n",
    "import numpy as np\n",
    "d = np.nan\n",
    "print(d)\n",
    "type(d)"
   ]
  },
  {
   "cell_type": "code",
   "execution_count": 7,
   "id": "23b04c5b-65ee-4d68-a778-6cd5fa9bfde1",
   "metadata": {},
   "outputs": [
    {
     "name": "stdout",
     "output_type": "stream",
     "text": [
      "nan\n",
      "nan\n",
      "1.0\n"
     ]
    }
   ],
   "source": [
    "# Operação com NaN\n",
    "e = d*1\n",
    "print(e)\n",
    "e = d+1\n",
    "print(e)\n",
    "e = np.nansum([d,1])\n",
    "print(e)"
   ]
  },
  {
   "cell_type": "markdown",
   "id": "6777eb18-5a0b-4730-a494-9a4cf63f1260",
   "metadata": {},
   "source": [
    "## Dados de texto"
   ]
  },
  {
   "cell_type": "code",
   "execution_count": 8,
   "id": "97a210b3-2dae-4494-8a1a-e3958f301999",
   "metadata": {},
   "outputs": [
    {
     "name": "stdout",
     "output_type": "stream",
     "text": [
      "Fábio\n",
      "Gabriel\n",
      "FábioGabriel\n",
      "Fábio Gabriel\n"
     ]
    }
   ],
   "source": [
    "# Declaração de variável texto\n",
    "f = 'Fábio'\n",
    "g = \"Gabriel\"\n",
    "print(f)\n",
    "print(g)\n",
    "print(f+g)\n",
    "print(f+' '+g)"
   ]
  },
  {
   "cell_type": "markdown",
   "id": "fa335c93-2ea1-43bc-9453-7819832fd294",
   "metadata": {},
   "source": [
    "## Dados tipo bool - lógica"
   ]
  },
  {
   "cell_type": "code",
   "execution_count": 9,
   "id": "66c802e0-79fc-4f80-9b0f-00b2d00dc4f4",
   "metadata": {},
   "outputs": [
    {
     "data": {
      "text/plain": [
       "True"
      ]
     },
     "execution_count": 9,
     "metadata": {},
     "output_type": "execute_result"
    }
   ],
   "source": [
    "a == 1"
   ]
  },
  {
   "cell_type": "code",
   "execution_count": 10,
   "id": "84b0efe0-ac6f-47c1-8aab-8ee9a93a00c0",
   "metadata": {},
   "outputs": [
    {
     "name": "stdout",
     "output_type": "stream",
     "text": [
      "True\n"
     ]
    },
    {
     "data": {
      "text/plain": [
       "bool"
      ]
     },
     "execution_count": 10,
     "metadata": {},
     "output_type": "execute_result"
    }
   ],
   "source": [
    "h = (a==1)\n",
    "print(h)\n",
    "type(h)"
   ]
  },
  {
   "cell_type": "code",
   "execution_count": 11,
   "id": "5c1cda5e-a5aa-4ae8-b437-0acecd42b21c",
   "metadata": {},
   "outputs": [
    {
     "name": "stdout",
     "output_type": "stream",
     "text": [
      "False\n"
     ]
    },
    {
     "data": {
      "text/plain": [
       "bool"
      ]
     },
     "execution_count": 11,
     "metadata": {},
     "output_type": "execute_result"
    }
   ],
   "source": [
    "h = (a==2)\n",
    "print(h)\n",
    "type(h)"
   ]
  },
  {
   "cell_type": "code",
   "execution_count": 12,
   "id": "ea13862e-c27a-43e8-88e8-f27dba796f8d",
   "metadata": {},
   "outputs": [
    {
     "data": {
      "text/plain": [
       "bool"
      ]
     },
     "execution_count": 12,
     "metadata": {},
     "output_type": "execute_result"
    }
   ],
   "source": [
    "i = True\n",
    "type(i)"
   ]
  },
  {
   "cell_type": "code",
   "execution_count": 13,
   "id": "e3da1b4f-af9e-441e-aeab-41a726c01b2e",
   "metadata": {},
   "outputs": [
    {
     "data": {
      "text/plain": [
       "str"
      ]
     },
     "execution_count": 13,
     "metadata": {},
     "output_type": "execute_result"
    }
   ],
   "source": [
    "ii = 'True'\n",
    "type(ii)"
   ]
  },
  {
   "cell_type": "markdown",
   "id": "d08d5ddb-cd91-4712-ab54-f9603ab368b9",
   "metadata": {},
   "source": [
    "### Operação de comparação"
   ]
  },
  {
   "cell_type": "code",
   "execution_count": 14,
   "id": "89520c0d-5d76-4257-997b-e4901919dbb9",
   "metadata": {},
   "outputs": [
    {
     "data": {
      "text/plain": [
       "True"
      ]
     },
     "execution_count": 14,
     "metadata": {},
     "output_type": "execute_result"
    }
   ],
   "source": [
    "# Operação ==\n",
    "a==b"
   ]
  },
  {
   "cell_type": "code",
   "execution_count": 15,
   "id": "7f86e133-a264-4f43-aad5-59a7febe1800",
   "metadata": {},
   "outputs": [
    {
     "data": {
      "text/plain": [
       "False"
      ]
     },
     "execution_count": 15,
     "metadata": {},
     "output_type": "execute_result"
    }
   ],
   "source": [
    "# Operação ><\n",
    "a>b"
   ]
  },
  {
   "cell_type": "code",
   "execution_count": 16,
   "id": "06bf48f8-3be9-4cf8-98bd-8c878ab82c43",
   "metadata": {},
   "outputs": [
    {
     "data": {
      "text/plain": [
       "False"
      ]
     },
     "execution_count": 16,
     "metadata": {},
     "output_type": "execute_result"
    }
   ],
   "source": [
    "\n",
    "# Operação !=\n",
    "a!=b"
   ]
  },
  {
   "cell_type": "code",
   "execution_count": 17,
   "id": "7eb1aaae-abe5-4937-9513-16eda4aa934f",
   "metadata": {},
   "outputs": [
    {
     "data": {
      "text/plain": [
       "True"
      ]
     },
     "execution_count": 17,
     "metadata": {},
     "output_type": "execute_result"
    }
   ],
   "source": [
    "# Operação >= ou <=\n",
    "a>=b"
   ]
  },
  {
   "cell_type": "markdown",
   "id": "e3b538cf-d4a3-4dd5-b92d-80bef071a554",
   "metadata": {},
   "source": [
    "## Operações matemáticas"
   ]
  },
  {
   "cell_type": "code",
   "execution_count": 19,
   "id": "be4a1a1b-9c70-484c-a45e-41fca6f8bf93",
   "metadata": {},
   "outputs": [
    {
     "data": {
      "text/plain": [
       "2.0"
      ]
     },
     "execution_count": 19,
     "metadata": {},
     "output_type": "execute_result"
    }
   ],
   "source": [
    "# Soma \n",
    "a+b"
   ]
  },
  {
   "cell_type": "code",
   "execution_count": 20,
   "id": "11e1c9ce-2e47-4960-acab-0ec2d1ae3a9c",
   "metadata": {},
   "outputs": [
    {
     "name": "stdout",
     "output_type": "stream",
     "text": [
      "2.0\n"
     ]
    }
   ],
   "source": [
    "# Soma e atribui valor\n",
    "ab = a+b\n",
    "print(ab)"
   ]
  },
  {
   "cell_type": "code",
   "execution_count": 21,
   "id": "13bc0ef6-f6b6-4f3f-83dd-b8bae2348754",
   "metadata": {},
   "outputs": [
    {
     "name": "stdout",
     "output_type": "stream",
     "text": [
      "Não use l como nome de variável\n",
      "1.0\n"
     ]
    }
   ],
   "source": [
    "# Multiplicação\n",
    "l = a*b # Não use l como variável\n",
    "print(\"Não use l como nome de variável\")\n",
    "j = a*b\n",
    "print(j)"
   ]
  },
  {
   "cell_type": "code",
   "execution_count": 22,
   "id": "64d89ac3-9f4f-42ce-9a7b-af4bb8682c09",
   "metadata": {},
   "outputs": [
    {
     "data": {
      "text/plain": [
       "1.0"
      ]
     },
     "execution_count": 22,
     "metadata": {},
     "output_type": "execute_result"
    }
   ],
   "source": [
    "# Divisão\n",
    "a/b"
   ]
  },
  {
   "cell_type": "code",
   "execution_count": 23,
   "id": "f9b99dc1-c6f1-458f-a738-4f81e1878602",
   "metadata": {},
   "outputs": [
    {
     "data": {
      "text/plain": [
       "25"
      ]
     },
     "execution_count": 23,
     "metadata": {},
     "output_type": "execute_result"
    }
   ],
   "source": [
    "# Potencia\n",
    "5**2"
   ]
  },
  {
   "cell_type": "code",
   "execution_count": null,
   "id": "93fd2386-48be-49bd-9978-045defcfa4bb",
   "metadata": {},
   "outputs": [],
   "source": [
    "# Operações matemáticas com a bibliotéca math\n",
    "import math\n",
    "\n",
    "math.exp(10)"
   ]
  },
  {
   "cell_type": "code",
   "execution_count": 27,
   "id": "b83f4a8e-74b4-4711-9963-e533a7cd03eb",
   "metadata": {},
   "outputs": [
    {
     "data": {
      "text/plain": [
       "1.0"
      ]
     },
     "execution_count": 27,
     "metadata": {},
     "output_type": "execute_result"
    }
   ],
   "source": [
    "\n",
    "math.exp(0)"
   ]
  },
  {
   "cell_type": "code",
   "execution_count": 28,
   "id": "51d78eb9-07bf-492b-861e-6571a7a3fc4b",
   "metadata": {},
   "outputs": [
    {
     "data": {
      "text/plain": [
       "2.718281828459045"
      ]
     },
     "execution_count": 28,
     "metadata": {},
     "output_type": "execute_result"
    }
   ],
   "source": [
    "math.exp(a)"
   ]
  },
  {
   "cell_type": "code",
   "execution_count": 29,
   "id": "68f610f2-0e25-4100-baf4-43e7aff24e4f",
   "metadata": {},
   "outputs": [
    {
     "data": {
      "text/plain": [
       "4.5399929762484854e-05"
      ]
     },
     "execution_count": 29,
     "metadata": {},
     "output_type": "execute_result"
    }
   ],
   "source": [
    "math.exp(-10)"
   ]
  },
  {
   "cell_type": "code",
   "execution_count": 30,
   "id": "3226818d-ee83-4159-9593-9e459cad5fc4",
   "metadata": {},
   "outputs": [
    {
     "data": {
      "text/plain": [
       "0.0"
      ]
     },
     "execution_count": 30,
     "metadata": {},
     "output_type": "execute_result"
    }
   ],
   "source": [
    "import math as mt\n",
    "mt.log(c)"
   ]
  },
  {
   "cell_type": "code",
   "execution_count": 31,
   "id": "8fa42dd8-49dc-4750-907c-839d93a96498",
   "metadata": {},
   "outputs": [
    {
     "data": {
      "text/plain": [
       "2.0"
      ]
     },
     "execution_count": 31,
     "metadata": {},
     "output_type": "execute_result"
    }
   ],
   "source": [
    "mt.log10(100)"
   ]
  },
  {
   "cell_type": "markdown",
   "id": "279e5f3c-4f11-46fe-a5b0-ca2ec214f651",
   "metadata": {},
   "source": [
    "## Listas"
   ]
  },
  {
   "cell_type": "code",
   "execution_count": 32,
   "id": "0e9f95dd-bfa2-4b28-9141-99fd9dc63ea6",
   "metadata": {},
   "outputs": [
    {
     "name": "stdout",
     "output_type": "stream",
     "text": [
      "[1, 2, 3]\n"
     ]
    }
   ],
   "source": [
    "myFirstList = [1,2,3]\n",
    "print(myFirstList)"
   ]
  },
  {
   "cell_type": "code",
   "execution_count": 33,
   "id": "e5c2811f-31e3-433c-a3d7-2077bd39b501",
   "metadata": {},
   "outputs": [
    {
     "name": "stdout",
     "output_type": "stream",
     "text": [
      "1\n",
      "3\n"
     ]
    }
   ],
   "source": [
    "# Acessando valores da lista pelo index\n",
    "print(myFirstList[0])\n",
    "print(myFirstList[2])"
   ]
  },
  {
   "cell_type": "code",
   "execution_count": 34,
   "id": "9b59b3de-9c0d-45a0-9af0-f6d0b5cc8ab5",
   "metadata": {},
   "outputs": [
    {
     "data": {
      "text/plain": [
       "False"
      ]
     },
     "execution_count": 34,
     "metadata": {},
     "output_type": "execute_result"
    }
   ],
   "source": [
    "myFirstList==a"
   ]
  },
  {
   "cell_type": "code",
   "execution_count": 35,
   "id": "a7b1c4a4-1756-4e14-a06a-6afc88fe478b",
   "metadata": {},
   "outputs": [
    {
     "data": {
      "text/plain": [
       "True"
      ]
     },
     "execution_count": 35,
     "metadata": {},
     "output_type": "execute_result"
    }
   ],
   "source": [
    "myFirstList[0]==a"
   ]
  },
  {
   "cell_type": "code",
   "execution_count": 36,
   "id": "5d9d4176-4452-4414-8dab-65a9f823cb49",
   "metadata": {},
   "outputs": [
    {
     "name": "stdout",
     "output_type": "stream",
     "text": [
      "[1, 1, 'c']\n"
     ]
    }
   ],
   "source": [
    "mySecList = [1,a,'c']\n",
    "print(mySecList)"
   ]
  },
  {
   "cell_type": "code",
   "execution_count": 37,
   "id": "01f15c5a-a882-40ed-bd63-4ca6ee50b1dc",
   "metadata": {},
   "outputs": [
    {
     "data": {
      "text/plain": [
       "list"
      ]
     },
     "execution_count": 37,
     "metadata": {},
     "output_type": "execute_result"
    }
   ],
   "source": [
    "type(mySecList)"
   ]
  },
  {
   "cell_type": "code",
   "execution_count": 38,
   "id": "634dca68-90ff-41b4-a856-0859fa7d0918",
   "metadata": {},
   "outputs": [
    {
     "data": {
      "text/plain": [
       "str"
      ]
     },
     "execution_count": 38,
     "metadata": {},
     "output_type": "execute_result"
    }
   ],
   "source": [
    "\n",
    "type(mySecList[2])"
   ]
  },
  {
   "cell_type": "code",
   "execution_count": 39,
   "id": "38abf797-523f-4286-a38e-b3f5c0eb38f4",
   "metadata": {},
   "outputs": [
    {
     "data": {
      "text/plain": [
       "int"
      ]
     },
     "execution_count": 39,
     "metadata": {},
     "output_type": "execute_result"
    }
   ],
   "source": [
    "type(mySecList[1])"
   ]
  },
  {
   "cell_type": "markdown",
   "id": "bcb84061-ee95-4cc3-a0a7-06bfc9db474d",
   "metadata": {},
   "source": [
    "## Caminhos = path"
   ]
  },
  {
   "cell_type": "code",
   "execution_count": 56,
   "id": "6360b450-b41f-43c7-aa35-68f7514993a9",
   "metadata": {},
   "outputs": [
    {
     "name": "stdout",
     "output_type": "stream",
     "text": [
      "C:\\Users\\cecil\\OneDrive\\Documentos\\CPA\\ENS5173\n"
     ]
    }
   ],
   "source": [
    "path = r\"C:\\Users\\cecil\\OneDrive\\Documentos\\CPA\\ENS5173\"\n",
    "print(path)"
   ]
  },
  {
   "cell_type": "code",
   "execution_count": 57,
   "id": "d7369f5a-2564-4b17-9419-6c26571a64aa",
   "metadata": {},
   "outputs": [
    {
     "name": "stdout",
     "output_type": "stream",
     "text": [
      "C:/Users/cecil/OneDrive/Documentos/CPA/ENS5173\n"
     ]
    }
   ],
   "source": [
    "path = \"C:/Users/cecil/OneDrive/Documentos/CPA/ENS5173\"\n",
    "print(path)"
   ]
  },
  {
   "cell_type": "code",
   "execution_count": 58,
   "id": "2decb289-5bb0-43c4-b52d-52b563d64e7b",
   "metadata": {},
   "outputs": [
    {
     "data": {
      "text/plain": [
       "['.git', '.gitignore', 'inputs', 'README.md', 'scripts', 'venv']"
      ]
     },
     "execution_count": 58,
     "metadata": {},
     "output_type": "execute_result"
    }
   ],
   "source": [
    "import os\n",
    "# Listar arquivos na pasta\n",
    "os.listdir(path)"
   ]
  },
  {
   "cell_type": "code",
   "execution_count": 59,
   "id": "9c42344f-01a1-4528-89a5-78830b15c3df",
   "metadata": {},
   "outputs": [
    {
     "data": {
      "text/plain": [
       "'.git'"
      ]
     },
     "execution_count": 59,
     "metadata": {},
     "output_type": "execute_result"
    }
   ],
   "source": [
    "# Selecionar primeiro arquivo listado\n",
    "os.listdir(path)[0]"
   ]
  },
  {
   "cell_type": "code",
   "execution_count": 60,
   "id": "33e0e1ce-749f-4a49-845c-be9c5075383e",
   "metadata": {},
   "outputs": [
    {
     "data": {
      "text/plain": [
       "'C:/Users/cecil/OneDrive/Documentos/CPA/ENS5173/.git'"
      ]
     },
     "execution_count": 60,
     "metadata": {},
     "output_type": "execute_result"
    }
   ],
   "source": [
    "# Concatenando caminhos\n",
    "path+\"/\"+os.listdir(path)[0]"
   ]
  },
  {
   "cell_type": "code",
   "execution_count": 61,
   "id": "1973c83c-b42c-41db-8e87-b44fdd31a961",
   "metadata": {},
   "outputs": [
    {
     "data": {
      "text/plain": [
       "['COMMIT_EDITMSG',\n",
       " 'config',\n",
       " 'description',\n",
       " 'FETCH_HEAD',\n",
       " 'HEAD',\n",
       " 'hooks',\n",
       " 'index',\n",
       " 'info',\n",
       " 'logs',\n",
       " 'objects',\n",
       " 'packed-refs',\n",
       " 'refs']"
      ]
     },
     "execution_count": 61,
     "metadata": {},
     "output_type": "execute_result"
    }
   ],
   "source": [
    "# Listando caminho concatenado\n",
    "os.listdir(path+\"/\"+os.listdir(path)[0])"
   ]
  },
  {
   "cell_type": "code",
   "execution_count": 62,
   "id": "19b15ece-1e43-4470-a054-3cfc08cf01cf",
   "metadata": {},
   "outputs": [
    {
     "data": {
      "text/plain": [
       "'C:\\\\Users\\\\cecil\\\\OneDrive\\\\Documentos\\\\CPA\\\\ENS5173\\\\venv\\\\Scripts'"
      ]
     },
     "execution_count": 62,
     "metadata": {},
     "output_type": "execute_result"
    }
   ],
   "source": [
    "# Diretório que estou trababalhando\n",
    "os.getcwd()"
   ]
  },
  {
   "cell_type": "code",
   "execution_count": 63,
   "id": "dcb89ee5-6816-4779-ac13-048ae09945ce",
   "metadata": {},
   "outputs": [],
   "source": [
    "# Mudo de diretório para o caminho \n",
    "os.chdir('C:\\\\Users\\\\cecil\\\\OneDrive\\\\Documentos\\\\')"
   ]
  },
  {
   "cell_type": "code",
   "execution_count": 64,
   "id": "2804207b-cbf0-4217-aa18-c6daf82af8b5",
   "metadata": {},
   "outputs": [
    {
     "data": {
      "text/plain": [
       "'C:\\\\Users\\\\cecil\\\\OneDrive\\\\Documentos'"
      ]
     },
     "execution_count": 64,
     "metadata": {},
     "output_type": "execute_result"
    }
   ],
   "source": [
    "os.getcwd()"
   ]
  },
  {
   "cell_type": "code",
   "execution_count": 65,
   "id": "73ca2cd7-c91c-4cc8-a82f-3a8da534389a",
   "metadata": {},
   "outputs": [
    {
     "name": "stdout",
     "output_type": "stream",
     "text": [
      "Criando diretório C:\\Users\\cecil\\OneDrive\\Documentos/test\n"
     ]
    }
   ],
   "source": [
    "# Criando diretório\n",
    "new_path = os.getcwd()+'/test'\n",
    "\n",
    "if os.path.isdir(new_path):\n",
    "    print('diretório já existe')\n",
    "else:\n",
    "    print('Criando diretório '+new_path)\n",
    "    os.mkdir(new_path)"
   ]
  },
  {
   "cell_type": "code",
   "execution_count": 66,
   "id": "80156e67-297c-465a-941f-7c2bf4a4b7ff",
   "metadata": {},
   "outputs": [
    {
     "name": "stdout",
     "output_type": "stream",
     "text": [
      "Criando diretório C:\\Users\\cecil\\OneDrive\\Documentos/test2\n"
     ]
    }
   ],
   "source": [
    "# Criando diretório\n",
    "new_path = os.getcwd()+'/test2'\n",
    "\n",
    "if os.path.isdir(new_path):\n",
    "    print('diretório já existe')\n",
    "    # Criando um arquivo de texto\n",
    "    with open(new_path+\"/copy.txt\", \"w\") as file:\n",
    "        file.write(\"Your text goes here\")\n",
    "else:\n",
    "    print('Criando diretório '+new_path)\n",
    "    os.mkdir(new_path)\n",
    "    with open(new_path+\"/copy.txt\", \"w\") as file:\n",
    "        file.write(\"Your text goes here\")"
   ]
  },
  {
   "cell_type": "markdown",
   "id": "1b1e8fad-f6fc-43b2-8e97-010926f00e9c",
   "metadata": {},
   "source": [
    "## Numpy arrays e Pandas DataFrames"
   ]
  },
  {
   "cell_type": "code",
   "execution_count": 67,
   "id": "6f5dbfa7-a3e9-447a-9cfc-c916579800f2",
   "metadata": {},
   "outputs": [
    {
     "data": {
      "text/plain": [
       "numpy.ndarray"
      ]
     },
     "execution_count": 67,
     "metadata": {},
     "output_type": "execute_result"
    }
   ],
   "source": [
    "import numpy as np\n",
    "# Criando uma variável numpy\n",
    "n = np.array(0)\n",
    "type(n)"
   ]
  },
  {
   "cell_type": "code",
   "execution_count": 68,
   "id": "74a47c63-ffb9-462b-af5c-aaa3932a3701",
   "metadata": {},
   "outputs": [
    {
     "name": "stdout",
     "output_type": "stream",
     "text": [
      "[ 1  2  3 10 20 55]\n"
     ]
    }
   ],
   "source": [
    "# Criando uma variável numpy a partir de uma lista\n",
    "myThirdList=[1,2,3,10,20,55]\n",
    "n = np.array(myThirdList)\n",
    "print(n)"
   ]
  },
  {
   "cell_type": "code",
   "execution_count": 69,
   "id": "c76b4e46-9680-4bf9-8de8-d2c7c1ee4741",
   "metadata": {},
   "outputs": [
    {
     "name": "stdout",
     "output_type": "stream",
     "text": [
      "[[0.2561451  0.62755133 0.52630437 0.01008624 0.34654406 0.06520685\n",
      "  0.18134111 0.73174331 0.75343034 0.78890579]\n",
      " [0.08234571 0.83472299 0.58327763 0.80206784 0.47055422 0.18636403\n",
      "  0.04754455 0.28989725 0.30875631 0.09763786]\n",
      " [0.4084331  0.426584   0.40514953 0.01587114 0.1366075  0.98744338\n",
      "  0.8165335  0.68858395 0.05130533 0.28430376]\n",
      " [0.12068655 0.6857641  0.97768338 0.25215657 0.67084944 0.77831466\n",
      "  0.43160951 0.26139765 0.36597311 0.26099018]\n",
      " [0.41747217 0.56076062 0.99045947 0.9131939  0.20190701 0.35894223\n",
      "  0.88377376 0.11895139 0.0194723  0.94916357]\n",
      " [0.05306836 0.45139472 0.69488594 0.05592343 0.56811881 0.76175935\n",
      "  0.21640782 0.74085489 0.05088133 0.89207368]\n",
      " [0.88141277 0.6720588  0.35955883 0.20165299 0.90915676 0.2468128\n",
      "  0.60885605 0.50706652 0.437315   0.22156368]\n",
      " [0.37736275 0.26589749 0.9823795  0.44371202 0.69045032 0.91260897\n",
      "  0.85680469 0.58841927 0.58019595 0.02866466]\n",
      " [0.1126492  0.7978834  0.29194974 0.79213566 0.7733916  0.16370909\n",
      "  0.79569154 0.05123501 0.01920798 0.83314914]\n",
      " [0.61952807 0.35310336 0.9237586  0.09858886 0.43738654 0.45144703\n",
      "  0.50950018 0.67642147 0.02167826 0.40786291]]\n",
      "(10, 10)\n"
     ]
    }
   ],
   "source": [
    "# Criando uma matriz de 10x10 de números aleatórios entre 0 e 1\n",
    "n = np.random.rand(10,10)\n",
    "print(n)\n",
    "# Dimensões da matrix\n",
    "print(n.shape)"
   ]
  },
  {
   "cell_type": "code",
   "execution_count": 70,
   "id": "3efdf9ab-2108-4d6d-afdf-0a775f3f1a66",
   "metadata": {},
   "outputs": [
    {
     "data": {
      "text/plain": [
       "array([0.2561451 , 0.62755133, 0.52630437, 0.01008624, 0.34654406,\n",
       "       0.06520685, 0.18134111, 0.73174331, 0.75343034, 0.78890579])"
      ]
     },
     "execution_count": 70,
     "metadata": {},
     "output_type": "execute_result"
    }
   ],
   "source": [
    "# Acessando valores da matriz\n",
    "n[0,:]"
   ]
  },
  {
   "cell_type": "code",
   "execution_count": 71,
   "id": "bb2a125c-55c8-49ba-b034-29a956b9d5dc",
   "metadata": {},
   "outputs": [
    {
     "data": {
      "text/plain": [
       "array([0.2561451 , 0.08234571, 0.4084331 , 0.12068655, 0.41747217,\n",
       "       0.05306836, 0.88141277, 0.37736275, 0.1126492 , 0.61952807])"
      ]
     },
     "execution_count": 71,
     "metadata": {},
     "output_type": "execute_result"
    }
   ],
   "source": [
    "n[:,0]"
   ]
  },
  {
   "cell_type": "code",
   "execution_count": 72,
   "id": "4f021641-0306-4157-83ea-3e75c8494467",
   "metadata": {},
   "outputs": [
    {
     "data": {
      "text/plain": [
       "array([[0.62755133, 0.52630437, 0.01008624, 0.34654406],\n",
       "       [0.83472299, 0.58327763, 0.80206784, 0.47055422],\n",
       "       [0.426584  , 0.40514953, 0.01587114, 0.1366075 ],\n",
       "       [0.6857641 , 0.97768338, 0.25215657, 0.67084944],\n",
       "       [0.56076062, 0.99045947, 0.9131939 , 0.20190701],\n",
       "       [0.45139472, 0.69488594, 0.05592343, 0.56811881],\n",
       "       [0.6720588 , 0.35955883, 0.20165299, 0.90915676],\n",
       "       [0.26589749, 0.9823795 , 0.44371202, 0.69045032],\n",
       "       [0.7978834 , 0.29194974, 0.79213566, 0.7733916 ],\n",
       "       [0.35310336, 0.9237586 , 0.09858886, 0.43738654]])"
      ]
     },
     "execution_count": 72,
     "metadata": {},
     "output_type": "execute_result"
    }
   ],
   "source": [
    "n[:,1:5]"
   ]
  },
  {
   "cell_type": "code",
   "execution_count": 73,
   "id": "e76bc7d4-660d-458d-ab20-153f857264c6",
   "metadata": {},
   "outputs": [
    {
     "data": {
      "text/plain": [
       "array([0.62755133, 0.52630437, 0.01008624, 0.34654406])"
      ]
     },
     "execution_count": 73,
     "metadata": {},
     "output_type": "execute_result"
    }
   ],
   "source": [
    "n[0,1:5]"
   ]
  },
  {
   "cell_type": "code",
   "execution_count": 75,
   "id": "0e696ccd-7209-438f-a723-88710587719b",
   "metadata": {},
   "outputs": [
    {
     "data": {
      "text/plain": [
       "0.7889057910631668"
      ]
     },
     "execution_count": 75,
     "metadata": {},
     "output_type": "execute_result"
    }
   ],
   "source": [
    "n[0,-1]"
   ]
  },
  {
   "cell_type": "code",
   "execution_count": 76,
   "id": "fc27591b-01bf-4aca-a327-a10f9c037ad2",
   "metadata": {},
   "outputs": [
    {
     "data": {
      "text/plain": [
       "array([0.34654406, 0.06520685, 0.18134111, 0.73174331, 0.75343034])"
      ]
     },
     "execution_count": 76,
     "metadata": {},
     "output_type": "execute_result"
    }
   ],
   "source": [
    "n[0,4:-1]"
   ]
  },
  {
   "cell_type": "code",
   "execution_count": 77,
   "id": "aae948a2-7861-4b71-9f0d-481a33117f07",
   "metadata": {},
   "outputs": [
    {
     "data": {
      "text/plain": [
       "array([0.34654406, 0.06520685, 0.18134111, 0.73174331, 0.75343034,\n",
       "       0.78890579])"
      ]
     },
     "execution_count": 77,
     "metadata": {},
     "output_type": "execute_result"
    }
   ],
   "source": [
    "n[0,4:]"
   ]
  },
  {
   "cell_type": "code",
   "execution_count": 78,
   "id": "428691a7-1dbe-4e68-9eb7-8b4982d5a6e2",
   "metadata": {},
   "outputs": [
    {
     "name": "stdout",
     "output_type": "stream",
     "text": [
      "[[ 0.24742671  1.1435081   0.96756232 -2.98714525  0.54969259 -1.12075281\n",
      "  -0.09793753  1.29711241  1.32631919  1.37232954]\n",
      " [-0.88739096  1.42878256  1.07034592  1.38887583  0.85559382 -0.07061544\n",
      "  -1.43665013  0.37120918  0.43423494 -0.71705208]\n",
      " [ 0.71401075  0.75749192  0.70593884 -2.53381483 -0.38120555  1.59680179\n",
      "   1.40675058  1.23631987 -1.36052271  0.35172587]\n",
      " [-0.50512066  1.23221633  1.58686851  0.23173282  1.21022737  1.35881352\n",
      "   0.7692039   0.26772544  0.60424248  0.26616542]\n",
      " [ 0.73590051  1.03097675  1.59985158  1.51863087  0.00948988  0.5848441\n",
      "   1.48588374 -0.51960245 -2.32932446  1.55726377]\n",
      " [-1.32673652  0.8140248   1.24543035 -1.27433387  1.0440132   1.33731333\n",
      "   0.07884733  1.30948741 -1.36882133  1.49523136]\n",
      " [ 1.48320867  1.21202847  0.58656045  0.00823097  1.51420017  0.21031281\n",
      "   1.1132645   0.93032483  0.78233639  0.10239269]\n",
      " [ 0.63488956  0.2847935   1.59166033  0.79685838  1.23902666  1.51799013\n",
      "   1.45489262  1.07912237  1.06504853 -1.94265247]\n",
      " [-0.57403878  1.38364511  0.37826429  1.3764153   1.35246816 -0.20022636\n",
      "   1.38089423 -1.36189428 -2.34299152  1.4268953 ]\n",
      " [ 1.13064064  0.56844345  1.53013341 -0.70735906  0.78249996  0.81414067\n",
      "   0.93511284  1.218499   -2.22200729  0.71261374]]\n"
     ]
    }
   ],
   "source": [
    "an = np.log(n*5)\n",
    "print(an)"
   ]
  },
  {
   "cell_type": "code",
   "execution_count": null,
   "id": "eaa591ca-afde-4d9b-a466-08e2f28de265",
   "metadata": {},
   "outputs": [],
   "source": []
  }
 ],
 "metadata": {
  "kernelspec": {
   "display_name": "Python 3 (ipykernel)",
   "language": "python",
   "name": "python3"
  },
  "language_info": {
   "codemirror_mode": {
    "name": "ipython",
    "version": 3
   },
   "file_extension": ".py",
   "mimetype": "text/x-python",
   "name": "python",
   "nbconvert_exporter": "python",
   "pygments_lexer": "ipython3",
   "version": "3.11.8"
  }
 },
 "nbformat": 4,
 "nbformat_minor": 5
}
