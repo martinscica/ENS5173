{
 "cells": [
  {
   "cell_type": "code",
   "execution_count": 3,
   "id": "e42ef618-3ed8-4157-ba72-09a00ae45df4",
   "metadata": {},
   "outputs": [
    {
     "name": "stdout",
     "output_type": "stream",
     "text": [
      "Guilherme gente fina\n",
      "<class 'str'>\n"
     ]
    }
   ],
   "source": [
    "# Tipos de variáveis\n",
    "a = 'Guilherme '\n",
    "b = a + 'gente fina'\n",
    "print(b)\n",
    "print(type(b))"
   ]
  },
  {
   "cell_type": "code",
   "execution_count": 4,
   "id": "caa11425-3b16-41ad-afc8-fbd8935bb768",
   "metadata": {},
   "outputs": [
    {
     "name": "stdout",
     "output_type": "stream",
     "text": [
      "11\n",
      "<class 'int'>\n"
     ]
    }
   ],
   "source": [
    "# Variáveis inteiras\n",
    "c = 1\n",
    "d = c + 10\n",
    "print(d)\n",
    "print(type(d))"
   ]
  },
  {
   "cell_type": "code",
   "execution_count": 5,
   "id": "96b6d456-82e3-44ad-b161-573aaef3a74a",
   "metadata": {},
   "outputs": [
    {
     "data": {
      "text/plain": [
       "1"
      ]
     },
     "execution_count": 5,
     "metadata": {},
     "output_type": "execute_result"
    }
   ],
   "source": [
    "c"
   ]
  },
  {
   "cell_type": "code",
   "execution_count": 7,
   "id": "f62965c1-9e93-43cc-b404-67dc146c03e0",
   "metadata": {},
   "outputs": [
    {
     "name": "stdout",
     "output_type": "stream",
     "text": [
      "Valor de g = 21.0 e o valor de h = 110.25\n",
      "<class 'float'>\n"
     ]
    }
   ],
   "source": [
    "# Variaveis - flot\n",
    "f = 10.5\n",
    "g = f*2\n",
    "h = f**2\n",
    "print('Valor de g = ' + str(g) + ' e o valor de h = ' + str(h))\n",
    "print(type(h))"
   ]
  },
  {
   "cell_type": "code",
   "execution_count": 46,
   "id": "7ec8a1fb-e5df-4afe-a800-13844f9ee97a",
   "metadata": {},
   "outputs": [
    {
     "name": "stdout",
     "output_type": "stream",
     "text": [
      "['Guilherme', 'Flavia', 'Lucas']\n",
      "[3, 6, 6]\n"
     ]
    }
   ],
   "source": [
    "# Exemplo dicionário\n",
    "\n",
    "dic = {\n",
    "    'alunos': ['Guilherme', 'Flavia', 'Lucas'],\n",
    "    'notas': [3, 6, 6]\n",
    "}\n",
    "print(dic['alunos'])\n",
    "print(dic['notas'])"
   ]
  },
  {
   "cell_type": "code",
   "execution_count": 55,
   "id": "57c0ca02-2a31-4b99-8369-f780046f923a",
   "metadata": {},
   "outputs": [
    {
     "name": "stdout",
     "output_type": "stream",
     "text": [
      "0 Guilherme nota = 3\n",
      "1 Flavia nota = 6\n",
      "2 Lucas nota = 6\n"
     ]
    }
   ],
   "source": [
    "# Treinando loop\n",
    "for ii,aluno in enumerate(dic['alunos']):\n",
    "    print(str(ii) + ' ' + aluno + ' nota = ' + str(dic['notas'][ii]))\n"
   ]
  },
  {
   "cell_type": "code",
   "execution_count": 58,
   "id": "dd52c5d2-dc44-4120-9d89-98798b4c249b",
   "metadata": {},
   "outputs": [
    {
     "name": "stdout",
     "output_type": "stream",
     "text": [
      "0 Guilherme nota = 10.0\n",
      "1 Flavia nota = 6\n",
      "2 Lucas nota = 6\n"
     ]
    }
   ],
   "source": [
    "# Treinando loop com condição\n",
    "for ii,aluno in enumerate(dic['alunos']):\n",
    "    if aluno == 'Guilherme':\n",
    "        print(str(ii) + ' '+ aluno + ' nota = 10.0')\n",
    "    else:\n",
    "        print(str(ii) + ' ' + aluno + ' nota = ' + str(dic['notas'][ii]))"
   ]
  },
  {
   "cell_type": "code",
   "execution_count": 69,
   "id": "c0d623c1-cb71-402e-837e-a3a31bec37a1",
   "metadata": {},
   "outputs": [
    {
     "name": "stdout",
     "output_type": "stream",
     "text": [
      "False\n",
      "True\n",
      "False\n",
      "True\n",
      "True\n",
      "True\n",
      "False\n",
      "<class 'bool'>\n"
     ]
    }
   ],
   "source": [
    "\n",
    "# Operações\n",
    "\n",
    "a = 1\n",
    "b = 3\n",
    "c= 1 \n",
    "\n",
    "print(a==b)  # Igual a - operação lógica\n",
    "print (a==c)\n",
    "print(a>b)\n",
    "print(a<b)\n",
    "print(a>=c) # maior ou igual\n",
    "print(a!=b) # diferente de\n",
    "print(a!=c) \n",
    "\n",
    "opTF = a!=c\n",
    "print(type(opTF))"
   ]
  },
  {
   "cell_type": "code",
   "execution_count": 74,
   "id": "046c9341-cc14-4cdd-876d-feb6b91a15b5",
   "metadata": {},
   "outputs": [
    {
     "name": "stdout",
     "output_type": "stream",
     "text": [
      "0 Guilherme nota = 10.0\n",
      "1 Flavia nota = 6\n",
      "2 Lucas nota = 9\n"
     ]
    }
   ],
   "source": [
    "# Treinando loop com condição\n",
    "dic['notas'][2]=9  # mudando a nota do lucas\n",
    "for ii,aluno in enumerate(dic['alunos']):\n",
    "    if (aluno == 'Guilherme') and (dic['notas'] [ii]<=9):\n",
    "        print(str(ii) + ' '+ aluno + ' nota = 10.0')\n",
    "    else:\n",
    "        print(str(ii) + ' ' + aluno + ' nota = ' + str(dic['notas'][ii])) # se a nota do guilherme for menor que 9, mudar para 10"
   ]
  },
  {
   "cell_type": "code",
   "execution_count": 84,
   "id": "9b16b805-57a2-4230-a327-48e3aa6e86ce",
   "metadata": {},
   "outputs": [
    {
     "name": "stdout",
     "output_type": "stream",
     "text": [
      "['Guilherme' 'Flavia' 'Lucas']\n",
      "<class 'numpy.ndarray'>\n",
      " \n",
      "[False False  True]\n",
      "(array([2], dtype=int64),)\n",
      "\n"
     ]
    },
    {
     "name": "stderr",
     "output_type": "stream",
     "text": [
      "C:\\Users\\cecil\\AppData\\Local\\Temp\\ipykernel_18708\\1880078948.py:16: DeprecationWarning: Conversion of an array with ndim > 0 to a scalar is deprecated, and will error in future. Ensure you extract a single element from your array before performing this operation. (Deprecated NumPy 1.25.)\n",
      "  dic['notas'][int(np.where(mat2)[0])] = 9.5\n"
     ]
    }
   ],
   "source": [
    "# Matriz com numpy\n",
    "\n",
    "import numpy as np\n",
    "\n",
    "# Convertendo para numpy\n",
    "mat = np.array(dic['alunos'])\n",
    "print(mat)\n",
    "print(type(mat))\n",
    "\n",
    "print(' ')\n",
    "mat2 = np.array(mat=='Lucas')\n",
    "print(mat2)\n",
    "print(np.where(mat2))\n",
    "\n",
    "print('')\n",
    "dic['notas'][int(np.where(mat2)[0])] = 9.5"
   ]
  },
  {
   "cell_type": "code",
   "execution_count": 89,
   "id": "8a4fd578-8c81-477b-af45-8920a5af8bd3",
   "metadata": {},
   "outputs": [
    {
     "name": "stdout",
     "output_type": "stream",
     "text": [
      "[0.97367269 0.48312472 0.93462656 0.16703771 0.30642857 0.44022814\n",
      " 0.38611588 0.67553993 0.26397328 0.73817679 0.97490906 0.49955166\n",
      " 0.08780938 0.0751578  0.03779258 0.18053036 0.18122873 0.56904386\n",
      " 0.74165361 0.02276118 0.56061562 0.62896432 0.96580517 0.11797357\n",
      " 0.51660775 0.59662603 0.19488    0.2253756  0.1933618  0.06739719\n",
      " 0.10367785 0.72520207 0.58437231 0.14086546 0.33097616 0.69103652\n",
      " 0.36395772 0.93895122 0.79837957 0.9188427  0.05297691 0.99442893\n",
      " 0.8928462  0.65004119 0.08982164 0.96880663 0.8021758  0.83350108\n",
      " 0.26184024 0.02392526 0.5013843  0.85626817 0.61746052 0.54119631\n",
      " 0.56403014 0.22439729 0.59053743 0.89740171 0.89821396 0.2343002\n",
      " 0.960189   0.02153783 0.65265398 0.10041061 0.97309854 0.06582424\n",
      " 0.03331884 0.76599574 0.19878958 0.53599616 0.35395534 0.04722898\n",
      " 0.74944128 0.98376283 0.88656203 0.46585429 0.68730069 0.76275695\n",
      " 0.44116969 0.39220837 0.75302219 0.83215957 0.11391014 0.98119088\n",
      " 0.49531954 0.53407517 0.14638626 0.76547368 0.73246226 0.61966367\n",
      " 0.22955859 0.43357366 0.77873975 0.576263   0.25368871 0.81889583\n",
      " 0.778813   0.37065633 0.62176222 0.78654525]\n",
      "\n",
      "[0.82695632 0.46454853 0.80437727 0.16626202 0.3016555  0.42614586\n",
      " 0.3765931  0.62531875 0.26091825 0.67294041 0.82765085 0.47903204\n",
      " 0.08769658 0.07508706 0.03778358 0.17955134 0.18023832 0.53882682\n",
      " 0.67550813 0.02275922 0.53170769 0.58830759 0.82250713 0.11770011\n",
      " 0.49393342 0.5618546  0.19364881 0.22347248 0.19215912 0.06734618\n",
      " 0.10349221 0.66328668 0.55167596 0.14040006 0.32496636 0.63733625\n",
      " 0.35597549 0.8069391  0.71622619 0.79489997 0.05295213 0.83844788\n",
      " 0.77886003 0.6052192  0.08970091 0.82421052 0.71887028 0.74028964\n",
      " 0.2588585  0.02392297 0.48063991 0.75540251 0.57896646 0.51516171\n",
      " 0.53459644 0.22251881 0.55680751 0.78170915 0.78221544 0.23216237\n",
      " 0.81929995 0.02153616 0.60729706 0.10024197 0.82663335 0.06577672\n",
      " 0.03331268 0.69325497 0.19748289 0.51069775 0.34661065 0.04721142\n",
      " 0.68122984 0.83258747 0.77490326 0.44918622 0.63445304 0.69091716\n",
      " 0.42699745 0.38223003 0.68384694 0.73938709 0.11366396 0.83116013\n",
      " 0.47531282 0.50904522 0.145864   0.69287863 0.66870242 0.5807614\n",
      " 0.22754771 0.42011647 0.70238293 0.54489426 0.2509763  0.7303921\n",
      " 0.70243507 0.36222727 0.58246849 0.70791743]\n"
     ]
    }
   ],
   "source": [
    "# Matriz np\n",
    "\n",
    "#Matriz de valores aleatorios\n",
    "vec = np.random.rand(100)\n",
    "print(vec)\n",
    "vec2 = np.sin(vec)\n",
    "print('')\n",
    "print(vec2)"
   ]
  },
  {
   "cell_type": "code",
   "execution_count": 95,
   "id": "b13319ed-bc2b-4a97-9148-4d4edee799fd",
   "metadata": {},
   "outputs": [
    {
     "name": "stdout",
     "output_type": "stream",
     "text": [
      "100\n",
      "2024-01-01\n",
      "2024-01-02\n",
      "2024-01-03\n",
      "2024-01-04\n",
      "2024-01-05\n",
      "2024-01-06\n",
      "2024-01-07\n",
      "2024-01-08\n",
      "2024-01-09\n",
      "2024-01-10\n",
      "2024-01-11\n",
      "2024-01-12\n",
      "2024-01-13\n",
      "2024-01-14\n",
      "2024-01-15\n",
      "2024-01-16\n",
      "2024-01-17\n",
      "2024-01-18\n",
      "2024-01-19\n",
      "2024-01-20\n",
      "2024-01-21\n",
      "2024-01-22\n",
      "2024-01-23\n",
      "2024-01-24\n",
      "2024-01-25\n",
      "2024-01-26\n",
      "2024-01-27\n",
      "2024-01-28\n",
      "2024-01-29\n",
      "2024-01-30\n",
      "2024-01-31\n",
      "2024-02-01\n",
      "2024-02-02\n",
      "2024-02-03\n",
      "2024-02-04\n",
      "2024-02-05\n",
      "2024-02-06\n",
      "2024-02-07\n",
      "2024-02-08\n",
      "2024-02-09\n",
      "2024-02-10\n",
      "2024-02-11\n",
      "2024-02-12\n",
      "2024-02-13\n",
      "2024-02-14\n",
      "2024-02-15\n",
      "2024-02-16\n",
      "2024-02-17\n",
      "2024-02-18\n",
      "2024-02-19\n",
      "2024-02-20\n",
      "2024-02-21\n",
      "2024-02-22\n",
      "2024-02-23\n",
      "2024-02-24\n",
      "2024-02-25\n",
      "2024-02-26\n",
      "2024-02-27\n",
      "2024-02-28\n",
      "2024-02-29\n",
      "2024-03-01\n",
      "2024-03-02\n",
      "2024-03-03\n",
      "2024-03-04\n",
      "2024-03-05\n",
      "2024-03-06\n",
      "2024-03-07\n",
      "2024-03-08\n",
      "2024-03-09\n",
      "2024-03-10\n",
      "2024-03-11\n",
      "2024-03-12\n",
      "2024-03-13\n",
      "2024-03-14\n",
      "2024-03-15\n",
      "2024-03-16\n",
      "2024-03-17\n",
      "2024-03-18\n",
      "2024-03-19\n",
      "2024-03-20\n",
      "2024-03-21\n",
      "2024-03-22\n",
      "2024-03-23\n",
      "2024-03-24\n",
      "2024-03-25\n",
      "2024-03-26\n",
      "2024-03-27\n",
      "2024-03-28\n",
      "2024-03-29\n",
      "2024-03-30\n",
      "2024-03-31\n",
      "2024-04-01\n",
      "2024-04-02\n",
      "2024-04-03\n",
      "2024-04-04\n",
      "2024-04-05\n",
      "2024-04-06\n",
      "2024-04-07\n",
      "2024-04-08\n",
      "2024-04-09\n"
     ]
    }
   ],
   "source": [
    "# DatetTime\n",
    "\n",
    "from datetime import datetime,timedelta\n",
    "\n",
    "# data inicial\n",
    "start_date = datetime(2024, 1, 1)\n",
    "\n",
    "# loista para armazenar datas\n",
    "date_vector = []\n",
    "\n",
    "#gerar datas para a semana\n",
    "print(vec.shape[0])\n",
    "for i in range(0, vec.shape[0]):\n",
    "    date_vector.append(start_date + timedelta(days=i))\n",
    "\n",
    "#exibir datas\n",
    "for date in date_vector:\n",
    "    print(date.strftime('%Y-%m-%d'))"
   ]
  },
  {
   "cell_type": "code",
   "execution_count": 97,
   "id": "193e13f2-227d-418c-9a53-ad7492b3e31a",
   "metadata": {},
   "outputs": [
    {
     "name": "stdout",
     "output_type": "stream",
     "text": [
      "        datas       vec      vec2\n",
      "0  2024-01-01  0.973673  0.826956\n",
      "1  2024-01-02  0.483125  0.464549\n",
      "2  2024-01-03  0.934627  0.804377\n",
      "3  2024-01-04  0.167038  0.166262\n",
      "4  2024-01-05  0.306429  0.301656\n",
      "..        ...       ...       ...\n",
      "95 2024-04-05  0.818896  0.730392\n",
      "96 2024-04-06  0.778813  0.702435\n",
      "97 2024-04-07  0.370656  0.362227\n",
      "98 2024-04-08  0.621762  0.582468\n",
      "99 2024-04-09  0.786545  0.707917\n",
      "\n",
      "[100 rows x 3 columns]\n"
     ]
    }
   ],
   "source": [
    "# Criando DataFrame e salvando\n",
    "\n",
    "import pandas as pd\n",
    "\n",
    "df = pd.DataFrame()\n",
    "df['datas'] = date_vector\n",
    "df['vec'] = vec\n",
    "df['vec2'] = vec2\n",
    "print(df)\n",
    "\n",
    "#Salvando\n",
    "pasta = r\"C:\\Users\\cecil\\OneDrive\\Documentos\\CPA\\ENS5173\\tabelas\"\n",
    "df.to_csv(pasta+'/planilha.csv')"
   ]
  },
  {
   "cell_type": "code",
   "execution_count": null,
   "id": "9b2f816b-9897-49bd-8577-8df8bd5e346e",
   "metadata": {},
   "outputs": [],
   "source": []
  }
 ],
 "metadata": {
  "kernelspec": {
   "display_name": "Python 3 (ipykernel)",
   "language": "python",
   "name": "python3"
  },
  "language_info": {
   "codemirror_mode": {
    "name": "ipython",
    "version": 3
   },
   "file_extension": ".py",
   "mimetype": "text/x-python",
   "name": "python",
   "nbconvert_exporter": "python",
   "pygments_lexer": "ipython3",
   "version": "3.11.8"
  }
 },
 "nbformat": 4,
 "nbformat_minor": 5
}
